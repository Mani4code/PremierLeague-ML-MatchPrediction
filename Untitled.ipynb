{
 "cells": [
  {
   "cell_type": "code",
   "execution_count": null,
   "id": "954503e5-77b7-4e39-b54c-0938215f08b9",
   "metadata": {},
   "outputs": [],
   "source": []
  }
 ],
 "metadata": {
  "kernelspec": {
   "display_name": "",
   "name": ""
  },
  "language_info": {
   "name": ""
  }
 },
 "nbformat": 4,
 "nbformat_minor": 5
}
